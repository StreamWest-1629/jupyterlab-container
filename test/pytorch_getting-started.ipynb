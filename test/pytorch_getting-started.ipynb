{
 "cells": [
  {
   "cell_type": "markdown",
   "id": "be50f657",
   "metadata": {},
   "source": [
    "# PyTorch QuickStart\n",
    "\n",
    "`fashionMNIST` 内のオブジェクトを分類する識別モデルを作成する. https://pytorch.org/tutorials/beginner/basics/quickstart_tutorial.html"
   ]
  },
  {
   "cell_type": "markdown",
   "id": "89973bd9",
   "metadata": {},
   "source": [
    "## ライブラリの読み込み\n",
    "ついでにCUDAが使えるかどうかについても確認する．"
   ]
  },
  {
   "cell_type": "code",
   "execution_count": null,
   "id": "f7b61c0d",
   "metadata": {},
   "outputs": [],
   "source": [
    "import torch\n",
    "from torch import nn\n",
    "from torch.utils.data import DataLoader\n",
    "from torchvision import datasets\n",
    "from torchvision.transforms import ToTensor, Lambda, Compose\n",
    "import matplotlib.pyplot as plt\n",
    "\n",
    "device = \"cuda\" if torch.cuda.is_available() else \"cpu\"\n",
    "print(f\"We uses {device} in this container\")"
   ]
  },
  {
   "cell_type": "markdown",
   "id": "00461473",
   "metadata": {},
   "source": [
    "## データセットの読み込み\n",
    "前述したように， `fashionMNIST` 内のオブジェクトを分類する識別モデルを作成する．"
   ]
  },
  {
   "cell_type": "code",
   "execution_count": null,
   "id": "64272685",
   "metadata": {},
   "outputs": [],
   "source": [
    "train_data = datasets.FashionMNIST(\n",
    "    root=\"dataset\",\n",
    "    train=True,\n",
    "    download=True,\n",
    "    transform=ToTensor(),\n",
    ")\n",
    "\n",
    "test_data = datasets.FashionMNIST(\n",
    "    root=\"dataset\",\n",
    "    train=False,\n",
    "    download=True,\n",
    "    transform=ToTensor(),\n",
    ")"
   ]
  },
  {
   "cell_type": "code",
   "execution_count": null,
   "id": "22ea921d",
   "metadata": {},
   "outputs": [],
   "source": [
    "BATCHSIZE=64\n",
    "\n",
    "train_dataloader = DataLoader(train_data, BATCHSIZE)\n",
    "test_dataloader = DataLoader(test_data, BATCHSIZE)\n",
    "\n",
    "for x, y in test_dataloader:\n",
    "    print(f\"\\rShape of x [N, C, H, W]: {x.shape}, y: {y.shape}({y.dtype})\", end=\"\")"
   ]
  },
  {
   "cell_type": "markdown",
   "id": "0ac955df",
   "metadata": {},
   "source": [
    "## モデルの作成\n",
    "`Getting Started` ではシンプルなニューラルネットワークで構成されている．"
   ]
  },
  {
   "cell_type": "code",
   "execution_count": null,
   "id": "0094aacb",
   "metadata": {},
   "outputs": [],
   "source": [
    "class NeuralNetwork(nn.Module):\n",
    "    def __init__(self):\n",
    "        super(NeuralNetwork, self).__init__()\n",
    "        self.flatten = nn.Flatten()\n",
    "        self.sequence = nn.Sequential(\n",
    "            nn.Linear(28*28, 512),\n",
    "            nn.BatchNorm1d(512),\n",
    "            nn.LeakyReLU(),\n",
    "            nn.Linear(512, 256),\n",
    "            nn.BatchNorm1d(256),\n",
    "            nn.LeakyReLU(),\n",
    "            nn.Linear(256, 128),\n",
    "            nn.BatchNorm1d(128),\n",
    "            nn.LeakyReLU(),\n",
    "            nn.Linear(128, 10),\n",
    "        )\n",
    "        \n",
    "    def forward(self, x):\n",
    "        res = self.flatten(x)\n",
    "        res = self.sequence(res)\n",
    "        return res\n",
    "    \n",
    "model = NeuralNetwork().to(device)"
   ]
  },
  {
   "cell_type": "code",
   "execution_count": null,
   "id": "841657ed",
   "metadata": {},
   "outputs": [],
   "source": [
    "print(model)"
   ]
  },
  {
   "cell_type": "markdown",
   "id": "35b94138",
   "metadata": {},
   "source": [
    "## 学習とテスト\n",
    "損失関数は交差エントロピー誤差，オプティマイザはAdamを使用する．"
   ]
  },
  {
   "cell_type": "code",
   "execution_count": null,
   "id": "09621c69",
   "metadata": {},
   "outputs": [],
   "source": [
    "loss_func = nn.CrossEntropyLoss()\n",
    "optimizer = torch.optim.Adam(model.parameters())"
   ]
  },
  {
   "cell_type": "code",
   "execution_count": null,
   "id": "41358355",
   "metadata": {},
   "outputs": [],
   "source": [
    "def train(dataloader, model, loss_fn, optimizer, i_epoch):\n",
    "    size = len(dataloader.dataset)\n",
    "    model.train()\n",
    "    for i_batch, (x, y) in enumerate(dataloader):\n",
    "        x, y = x.to(device), y.to(device)\n",
    "        \n",
    "        # prediction error\n",
    "        pred = model(x)\n",
    "        loss = loss_fn(pred, y)\n",
    "        \n",
    "        optimizer.zero_grad()\n",
    "        loss.backward()\n",
    "        optimizer.step()\n",
    "        \n",
    "        if i_batch % 100 == 0:\n",
    "            loss, current = loss.item(), i_batch * len(x)\n",
    "            print(f\"\\r{i_epoch} epoch (loss: {loss:>7f}) [{current:>5d}/{size:>5d}]\",end=\"\")\n",
    "\n",
    "def test(dataloader, model, loss_fn, i_epoch):\n",
    "    size = len(dataloader.dataset)\n",
    "    num_batches = len(dataloader)\n",
    "    model.eval()\n",
    "    test_loss, correct = 0, 0\n",
    "    \n",
    "    with torch.no_grad():\n",
    "        for x, y in dataloader:\n",
    "            x, y = x.to(device), y.to(device)\n",
    "            pred = model(x)\n",
    "            test_loss += loss_fn(pred, y).item()\n",
    "            correct += (pred.argmax(1) == y).type(torch.float).sum().item()\n",
    "    test_loss /= num_batches\n",
    "    correct /= size\n",
    "    print(f\"{i_epoch} test accuracy: {100*correct:0.1f}, avg loss: {test_loss:>8f}\")\n",
    "        "
   ]
  },
  {
   "cell_type": "code",
   "execution_count": null,
   "id": "c14ade34",
   "metadata": {},
   "outputs": [],
   "source": [
    "NUMEPOCHS = 5\n",
    "for i_epoch in range(NUMEPOCHS):\n",
    "    train(train_dataloader, model, loss_func, optimizer, i_epoch)\n",
    "    print(\"\")\n",
    "    test(test_dataloader, model, loss_func, i_epoch)\n"
   ]
  },
  {
   "cell_type": "markdown",
   "id": "98bc0619",
   "metadata": {},
   "source": [
    "## パラメータの保存"
   ]
  },
  {
   "cell_type": "code",
   "execution_count": null,
   "id": "da27ac38",
   "metadata": {},
   "outputs": [],
   "source": [
    "torch.save(model.state_dict(), \"trained/model.pth\")"
   ]
  },
  {
   "cell_type": "code",
   "execution_count": null,
   "id": "def734b5",
   "metadata": {},
   "outputs": [],
   "source": [
    "dic = model.state_dict()\n",
    "for key, tensor in dic.items():\n",
    "    print(f\"{key} parameter's shape: {tensor.shape}\")"
   ]
  },
  {
   "cell_type": "code",
   "execution_count": null,
   "id": "bb5aa2ea",
   "metadata": {},
   "outputs": [],
   "source": [
    "del model"
   ]
  },
  {
   "cell_type": "code",
   "execution_count": null,
   "id": "30b9da11",
   "metadata": {},
   "outputs": [],
   "source": [
    "torch.cuda.empty_cache()"
   ]
  }
 ],
 "metadata": {
  "kernelspec": {
   "display_name": "Python 3 (ipykernel)",
   "language": "python",
   "name": "python3"
  },
  "language_info": {
   "codemirror_mode": {
    "name": "ipython",
    "version": 3
   },
   "file_extension": ".py",
   "mimetype": "text/x-python",
   "name": "python",
   "nbconvert_exporter": "python",
   "pygments_lexer": "ipython3",
   "version": "3.8.10"
  }
 },
 "nbformat": 4,
 "nbformat_minor": 5
}
